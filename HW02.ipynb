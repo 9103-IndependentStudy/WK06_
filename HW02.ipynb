{
  "cells": [
    {
      "cell_type": "markdown",
      "metadata": {
        "id": "QshK8s21WBrf"
      },
      "source": [
        "# HW02\n",
        "\n",
        "## Some exercises to get started with data analysis in Python"
      ]
    },
    {
      "cell_type": "markdown",
      "metadata": {
        "id": "7Hf8SXUwWOho"
      },
      "source": [
        "### Setup\n",
        "\n",
        "Run the following 2 cells to import all necessary libraries and helpers for Homework 02"
      ]
    },
    {
      "cell_type": "code",
      "execution_count": 2,
      "metadata": {
        "id": "HRhQ_y-j7wbT"
      },
      "outputs": [],
      "source": [
        "!wget -q https://github.com/DM-GY-9103-2024S-R/HW02/raw/main/HW02_utils.pyc\n",
        "!wget -q https://github.com/DM-GY-9103-2024S-R/9103-utils/raw/main/src/io_utils.py"
      ]
    },
    {
      "cell_type": "code",
      "execution_count": 3,
      "metadata": {
        "id": "HMf6EpIy7wbU"
      },
      "outputs": [],
      "source": [
        "import matplotlib.pyplot as plt\n",
        "\n",
        "from HW02_utils import Tests\n",
        "from io_utils import object_from_json_url"
      ]
    },
    {
      "cell_type": "markdown",
      "metadata": {
        "id": "FL8IlEO37wbU"
      },
      "source": [
        "### Exercise 01:\n",
        "\n",
        "Finding the sum of integer sequences."
      ]
    },
    {
      "cell_type": "markdown",
      "metadata": {
        "id": "m1BspvAk6Nu7"
      },
      "source": [
        "#### Exercise 01A:\n",
        "\n",
        "Find the sum of all integers from $0$ to $128$."
      ]
    },
    {
      "cell_type": "code",
      "execution_count": 1,
      "metadata": {
        "tags": [
          "work_cell"
        ],
        "id": "tV4Yza_s7wbU"
      },
      "outputs": [],
      "source": [
        "## Work on exercise 01A here\n",
        "\n",
        "sum_0128 = 0"
      ]
    },
    {
      "cell_type": "markdown",
      "metadata": {
        "id": "1rpPBQenWuIU"
      },
      "source": [
        "#### Exercise 01B:\n",
        "\n",
        "Using variables, generalize the calculation from 01A to find the sum of all integers between two given integers.\n",
        "\n",
        "For example, the sum between all integers from $4$ to $32$ is $522$."
      ]
    },
    {
      "cell_type": "code",
      "execution_count": 19,
      "metadata": {
        "tags": [
          "work_cell"
        ],
        "id": "kfY9x9G27wbU"
      },
      "outputs": [],
      "source": [
        "## Work on exercise 01B here\n",
        "\n",
        "i0 = 4\n",
        "i1 = 32\n",
        "\n",
        "sum_432 = 0"
      ]
    },
    {
      "cell_type": "markdown",
      "metadata": {
        "id": "CR-PEugdX6Tz"
      },
      "source": [
        "#### Exercise 01C:\n",
        "\n",
        "Create a function ```sum_of_ints(i0, i1)``` that returns the sum of all integers between two integers.\n",
        "\n",
        "For example, ```sum_of_ints(4, 32)``` should return $522$.\n"
      ]
    },
    {
      "cell_type": "code",
      "execution_count": 17,
      "metadata": {
        "tags": [
          "work_cell"
        ],
        "id": "pWjN6gFH7wbV"
      },
      "outputs": [],
      "source": [
        "## Work on exercise 01C here\n",
        "\n",
        "def sum_of_ints(i0, i1):\n",
        "  return 0\n"
      ]
    },
    {
      "cell_type": "code",
      "source": [
        "def sum_of_ints(i0, i1):\n",
        "    n = i1 - i0 + 1\n",
        "    return (n * (i0 + i1)) // 2\n",
        "\n",
        "\n",
        "result = sum_of_ints(10, 20)\n",
        "print(result)\n",
        "\n",
        "\n"
      ],
      "metadata": {
        "id": "5pkWCxRPQx_z",
        "outputId": "702e2356-b97e-4c9d-d5e6-6bf43a47eab4",
        "colab": {
          "base_uri": "https://localhost:8080/"
        }
      },
      "execution_count": 14,
      "outputs": [
        {
          "output_type": "stream",
          "name": "stdout",
          "text": [
            "165\n"
          ]
        }
      ]
    },
    {
      "cell_type": "markdown",
      "metadata": {
        "id": "MKA9RSFMYn9p"
      },
      "source": [
        "### Exercise 01C testing:\n",
        "\n",
        "Running the following cell will test the ```sum_of_ints()``` function on a small set of input pairs and report any combination that isn't computing correctly, if any."
      ]
    },
    {
      "cell_type": "code",
      "execution_count": 16,
      "metadata": {
        "id": "Uks6Tv9S7wbV",
        "outputId": "1a188e15-f733-4321-d6fe-c95bc4580b0f",
        "colab": {
          "base_uri": "https://localhost:8080/"
        }
      },
      "outputs": [
        {
          "output_type": "stream",
          "name": "stdout",
          "text": [
            "ERROR Check sum of sum_of_ints(89, 53) should be 2627 not -2485\n",
            "ERROR Check sum of sum_of_ints(-20, -88) should be -3726 not 3618\n",
            "ERROR Check sum of sum_of_ints(36, 14) should be 575 not -525\n",
            "ERROR Check sum of sum_of_ints(-50, -81) should be -2096 not 1965\n",
            "ERROR Check sum of sum_of_ints(77, 8) should be 2975 not -2890\n",
            "ERROR Check sum of sum_of_ints(-63, -100) should be -3097 not 2934\n"
          ]
        }
      ],
      "source": [
        "# Test 01C\n",
        "Tests.test(\"01C\", sum_of_ints)"
      ]
    },
    {
      "cell_type": "markdown",
      "metadata": {
        "id": "7mg_r9gv4kpu"
      },
      "source": [
        "### Exercise 02:\n",
        "\n",
        "Working with lists and dictionaries/objects.\n"
      ]
    },
    {
      "cell_type": "markdown",
      "metadata": {
        "id": "QrG_6ZPC6n5Y"
      },
      "source": [
        "#### Exercise 02A:\n",
        "\n",
        "Write a function `sum_list(in_list)` that returns the sum of all numbers in its argument `in_list`.\n",
        "\n",
        "For example, `sum_list([1, 4, 7, 12, 43, -10])` should return $57$.\n",
        "\n",
        "The function should skip empty and non-integer items.\n"
      ]
    },
    {
      "cell_type": "code",
      "execution_count": 23,
      "metadata": {
        "tags": [
          "work_cell"
        ],
        "id": "Zd6fVMIX7wbV",
        "outputId": "ffb336e9-ded8-4446-c0bb-16a8cb796db3",
        "colab": {
          "base_uri": "https://localhost:8080/"
        }
      },
      "outputs": [
        {
          "output_type": "stream",
          "name": "stdout",
          "text": [
            "150\n"
          ]
        }
      ],
      "source": [
        "def sum_list(in_list):\n",
        "    total = 0\n",
        "    for num in in_list:\n",
        "        total += num\n",
        "    return total\n",
        "\n",
        "# Example usage with a list of numbers\n",
        "example_list = [10, 20, 30, 40, 50]\n",
        "result = sum_list(example_list)\n",
        "print(result)\n",
        "\n",
        "\n"
      ]
    },
    {
      "cell_type": "markdown",
      "metadata": {
        "id": "gZgaBN4q-6nO"
      },
      "source": [
        "#### Exercise 02A test:\n",
        "\n",
        "Run the following cell to test the ```sum_list()``` function."
      ]
    },
    {
      "cell_type": "code",
      "execution_count": 20,
      "metadata": {
        "id": "Aa5qxE-s7wbV",
        "outputId": "0ff826fc-b523-45fe-a9cd-6ee335269011",
        "colab": {
          "base_uri": "https://localhost:8080/",
          "height": 162
        }
      },
      "outputs": [
        {
          "output_type": "error",
          "ename": "NameError",
          "evalue": "name 'sum_list' is not defined",
          "traceback": [
            "\u001b[0;31m---------------------------------------------------------------------------\u001b[0m",
            "\u001b[0;31mNameError\u001b[0m                                 Traceback (most recent call last)",
            "\u001b[0;32m<ipython-input-20-809d627ebd29>\u001b[0m in \u001b[0;36m<cell line: 2>\u001b[0;34m()\u001b[0m\n\u001b[1;32m      1\u001b[0m \u001b[0;31m# Test 02A\u001b[0m\u001b[0;34m\u001b[0m\u001b[0;34m\u001b[0m\u001b[0m\n\u001b[0;32m----> 2\u001b[0;31m \u001b[0mTests\u001b[0m\u001b[0;34m.\u001b[0m\u001b[0mtest\u001b[0m\u001b[0;34m(\u001b[0m\u001b[0;34m\"02A\"\u001b[0m\u001b[0;34m,\u001b[0m \u001b[0msum_list\u001b[0m\u001b[0;34m)\u001b[0m\u001b[0;34m\u001b[0m\u001b[0;34m\u001b[0m\u001b[0m\n\u001b[0m",
            "\u001b[0;31mNameError\u001b[0m: name 'sum_list' is not defined"
          ]
        }
      ],
      "source": [
        "# Test 02A\n",
        "Tests.test(\"02A\", sum_list)"
      ]
    },
    {
      "cell_type": "markdown",
      "metadata": {
        "id": "tlj9rUWg_eLq"
      },
      "source": [
        "#### Exercise 02B:\n",
        "\n",
        "Write a function `sum_objects(in_list)` that accept a list of objects and returns a sum according to the following specifications:\n",
        "\n",
        "Each object in the list has 2 fields, `type` and `amount`, and so will look something like this:\n",
        "\n",
        "```python\n",
        "list = [\n",
        "  { \"type\": \"cost\", \"amount\": 10.00 },\n",
        "  { \"type\": \"cost\", \"amount\": 15.99 },\n",
        "  { \"type\": \"income\", \"amount\": 150.25 },\n",
        "  { \"type\": \"income\", \"amount\": 243.52 },\n",
        "]\n",
        "```\n",
        "\n",
        "The `sum_objects(in_list)` function should iterate through all of the items in `in_list` and sum their `amount`s using positive values when `type` is `\"income\"`, and negative values when `type` is `\"cost\"`.\n",
        "\n",
        "Passing the above list to the function should return $367.78$.\n"
      ]
    },
    {
      "cell_type": "code",
      "execution_count": 26,
      "metadata": {
        "tags": [
          "work_cell"
        ],
        "id": "sCcUyGgY7wbV",
        "outputId": "1e89faef-3147-4c55-8fc3-8ca1d6f2c37f",
        "colab": {
          "base_uri": "https://localhost:8080/"
        }
      },
      "outputs": [
        {
          "output_type": "stream",
          "name": "stdout",
          "text": [
            "367.78\n"
          ]
        }
      ],
      "source": [
        "def sum_objects(in_list):\n",
        "    return sum(obj[\"amount\"] if obj[\"type\"] == \"income\" else -obj[\"amount\"] for obj in in_list)\n",
        "\n",
        "# Example usage\n",
        "list_objects = [\n",
        "  { \"type\": \"cost\", \"amount\": 10.00 },\n",
        "  { \"type\": \"cost\", \"amount\": 15.99 },\n",
        "  { \"type\": \"income\", \"amount\": 150.25 },\n",
        "  { \"type\": \"income\", \"amount\": 243.52 },\n",
        "]\n",
        "\n",
        "print(sum_objects(list_objects))\n",
        "\n",
        "\n"
      ]
    },
    {
      "cell_type": "code",
      "execution_count": 27,
      "metadata": {
        "id": "RG5rK84Q7wbV",
        "outputId": "e9d78ae0-61c0-4c29-c191-b4e0844a5421",
        "colab": {
          "base_uri": "https://localhost:8080/"
        }
      },
      "outputs": [
        {
          "output_type": "execute_result",
          "data": {
            "text/plain": [
              "367.78"
            ]
          },
          "metadata": {},
          "execution_count": 27
        }
      ],
      "source": [
        "# Run this cell to test if function returns 367.78\n",
        "\n",
        "test_list = [\n",
        "  { \"type\": \"cost\", \"amount\": 10.00 },\n",
        "  { \"type\": \"cost\", \"amount\": 15.99 },\n",
        "  { \"type\": \"income\", \"amount\": 150.25 },\n",
        "  { \"type\": \"income\", \"amount\": 243.52 },\n",
        "]\n",
        "\n",
        "sum_objects(test_list)"
      ]
    },
    {
      "cell_type": "markdown",
      "metadata": {
        "id": "h26qEqysLLrq"
      },
      "source": [
        "#### Exercise 02B test:\n",
        "\n",
        "Run the following cell to test the `sum_objects()` function."
      ]
    },
    {
      "cell_type": "code",
      "execution_count": 28,
      "metadata": {
        "id": "AUh7ingz7wbW",
        "outputId": "7c2edab7-90a4-4435-ce2d-9c268c3d0151",
        "colab": {
          "base_uri": "https://localhost:8080/"
        }
      },
      "outputs": [
        {
          "output_type": "stream",
          "name": "stdout",
          "text": [
            "02B: All tests passed 🎉🎉🎉\n"
          ]
        }
      ],
      "source": [
        "# Test 02B\n",
        "Tests.test(\"02B\", sum_objects)"
      ]
    },
    {
      "cell_type": "markdown",
      "metadata": {
        "id": "prKGt8bzScNA"
      },
      "source": [
        "### Exercise 03:\n",
        "\n",
        "Working with data files.\n",
        "\n",
        "Find the name and population of the 3 cities that are geographically closest to the world's most populous city.\n",
        "\n",
        "# 🤔😱\n"
      ]
    },
    {
      "cell_type": "markdown",
      "metadata": {
        "id": "FKsnl_NYTSk0"
      },
      "source": [
        "#### Exercise 03A:\n",
        "\n",
        "Let's break this down into a few sub-problems.\n",
        "\n",
        "First, let's load a JSON file that has information about large cities in the world.\n",
        "\n",
        "The file at this url https://raw.githubusercontent.com/DM-GY-9103-2024S-R/9103-utils/main/datasets/json/cities50k.json has a list of cities formatted like this:\n",
        "\n",
        "```py\n",
        "{\n",
        "  \"name\": \"Pittsburgh\",\n",
        "  \"country\": \"US\",\n",
        "  \"admin1\": \"Pennsylvania\",\n",
        "  \"lat\": 40.4406200,\n",
        "  \"lon\": -79.9958900,\n",
        "  \"pop\": 304391\n",
        "}\n",
        "```"
      ]
    },
    {
      "cell_type": "code",
      "execution_count": 29,
      "metadata": {
        "tags": [
          "work_cell"
        ],
        "id": "pgBRnKnT7wbW"
      },
      "outputs": [],
      "source": [
        "# Work on 03A here\n",
        "\n",
        "# Define the location of the json file here\n",
        "\n",
        "CITIES_FILE = \"\"\n",
        "\n",
        "# Use the object_from_json_url() function imported from HW02_utils\n",
        "# to load contents from the file into a Python object called \"info_cities\"\n",
        "\n",
        "info_cities = []"
      ]
    },
    {
      "cell_type": "code",
      "source": [
        "CITIES_FILE = \"https://raw.githubusercontent.com/DM-GY-9103-2024S-R/9103-utils/main/datasets/json/cities50k.json\"\n",
        "\n",
        "def fetch_locations(url):\n",
        "    data = object_from_json_url(url)\n",
        "    locations = [{'latitude': item['lat'], 'longitude': item['lng']} for item in data]\n",
        "    return locations\n",
        "\n",
        "locations = fetch_locations(CITIES_FILE)\n"
      ],
      "metadata": {
        "id": "dRG_Q8r9e9S2",
        "outputId": "ad687720-3d11-428b-afdb-da77cb0f3360",
        "colab": {
          "base_uri": "https://localhost:8080/",
          "height": 329
        }
      },
      "execution_count": 38,
      "outputs": [
        {
          "output_type": "error",
          "ename": "KeyError",
          "evalue": "'lng'",
          "traceback": [
            "\u001b[0;31m---------------------------------------------------------------------------\u001b[0m",
            "\u001b[0;31mKeyError\u001b[0m                                  Traceback (most recent call last)",
            "\u001b[0;32m<ipython-input-38-b81aeff4b35b>\u001b[0m in \u001b[0;36m<cell line: 8>\u001b[0;34m()\u001b[0m\n\u001b[1;32m      6\u001b[0m     \u001b[0;32mreturn\u001b[0m \u001b[0mlocations\u001b[0m\u001b[0;34m\u001b[0m\u001b[0;34m\u001b[0m\u001b[0m\n\u001b[1;32m      7\u001b[0m \u001b[0;34m\u001b[0m\u001b[0m\n\u001b[0;32m----> 8\u001b[0;31m \u001b[0mlocations\u001b[0m \u001b[0;34m=\u001b[0m \u001b[0mfetch_locations\u001b[0m\u001b[0;34m(\u001b[0m\u001b[0mCITIES_FILE\u001b[0m\u001b[0;34m)\u001b[0m\u001b[0;34m\u001b[0m\u001b[0;34m\u001b[0m\u001b[0m\n\u001b[0m",
            "\u001b[0;32m<ipython-input-38-b81aeff4b35b>\u001b[0m in \u001b[0;36mfetch_locations\u001b[0;34m(url)\u001b[0m\n\u001b[1;32m      3\u001b[0m \u001b[0;32mdef\u001b[0m \u001b[0mfetch_locations\u001b[0m\u001b[0;34m(\u001b[0m\u001b[0murl\u001b[0m\u001b[0;34m)\u001b[0m\u001b[0;34m:\u001b[0m\u001b[0;34m\u001b[0m\u001b[0;34m\u001b[0m\u001b[0m\n\u001b[1;32m      4\u001b[0m     \u001b[0mdata\u001b[0m \u001b[0;34m=\u001b[0m \u001b[0mobject_from_json_url\u001b[0m\u001b[0;34m(\u001b[0m\u001b[0murl\u001b[0m\u001b[0;34m)\u001b[0m\u001b[0;34m\u001b[0m\u001b[0;34m\u001b[0m\u001b[0m\n\u001b[0;32m----> 5\u001b[0;31m     \u001b[0mlocations\u001b[0m \u001b[0;34m=\u001b[0m \u001b[0;34m[\u001b[0m\u001b[0;34m{\u001b[0m\u001b[0;34m'latitude'\u001b[0m\u001b[0;34m:\u001b[0m \u001b[0mitem\u001b[0m\u001b[0;34m[\u001b[0m\u001b[0;34m'lat'\u001b[0m\u001b[0;34m]\u001b[0m\u001b[0;34m,\u001b[0m \u001b[0;34m'longitude'\u001b[0m\u001b[0;34m:\u001b[0m \u001b[0mitem\u001b[0m\u001b[0;34m[\u001b[0m\u001b[0;34m'lng'\u001b[0m\u001b[0;34m]\u001b[0m\u001b[0;34m}\u001b[0m \u001b[0;32mfor\u001b[0m \u001b[0mitem\u001b[0m \u001b[0;32min\u001b[0m \u001b[0mdata\u001b[0m\u001b[0;34m]\u001b[0m\u001b[0;34m\u001b[0m\u001b[0;34m\u001b[0m\u001b[0m\n\u001b[0m\u001b[1;32m      6\u001b[0m     \u001b[0;32mreturn\u001b[0m \u001b[0mlocations\u001b[0m\u001b[0;34m\u001b[0m\u001b[0;34m\u001b[0m\u001b[0m\n\u001b[1;32m      7\u001b[0m \u001b[0;34m\u001b[0m\u001b[0m\n",
            "\u001b[0;32m<ipython-input-38-b81aeff4b35b>\u001b[0m in \u001b[0;36m<listcomp>\u001b[0;34m(.0)\u001b[0m\n\u001b[1;32m      3\u001b[0m \u001b[0;32mdef\u001b[0m \u001b[0mfetch_locations\u001b[0m\u001b[0;34m(\u001b[0m\u001b[0murl\u001b[0m\u001b[0;34m)\u001b[0m\u001b[0;34m:\u001b[0m\u001b[0;34m\u001b[0m\u001b[0;34m\u001b[0m\u001b[0m\n\u001b[1;32m      4\u001b[0m     \u001b[0mdata\u001b[0m \u001b[0;34m=\u001b[0m \u001b[0mobject_from_json_url\u001b[0m\u001b[0;34m(\u001b[0m\u001b[0murl\u001b[0m\u001b[0;34m)\u001b[0m\u001b[0;34m\u001b[0m\u001b[0;34m\u001b[0m\u001b[0m\n\u001b[0;32m----> 5\u001b[0;31m     \u001b[0mlocations\u001b[0m \u001b[0;34m=\u001b[0m \u001b[0;34m[\u001b[0m\u001b[0;34m{\u001b[0m\u001b[0;34m'latitude'\u001b[0m\u001b[0;34m:\u001b[0m \u001b[0mitem\u001b[0m\u001b[0;34m[\u001b[0m\u001b[0;34m'lat'\u001b[0m\u001b[0;34m]\u001b[0m\u001b[0;34m,\u001b[0m \u001b[0;34m'longitude'\u001b[0m\u001b[0;34m:\u001b[0m \u001b[0mitem\u001b[0m\u001b[0;34m[\u001b[0m\u001b[0;34m'lng'\u001b[0m\u001b[0;34m]\u001b[0m\u001b[0;34m}\u001b[0m \u001b[0;32mfor\u001b[0m \u001b[0mitem\u001b[0m \u001b[0;32min\u001b[0m \u001b[0mdata\u001b[0m\u001b[0;34m]\u001b[0m\u001b[0;34m\u001b[0m\u001b[0;34m\u001b[0m\u001b[0m\n\u001b[0m\u001b[1;32m      6\u001b[0m     \u001b[0;32mreturn\u001b[0m \u001b[0mlocations\u001b[0m\u001b[0;34m\u001b[0m\u001b[0;34m\u001b[0m\u001b[0m\n\u001b[1;32m      7\u001b[0m \u001b[0;34m\u001b[0m\u001b[0m\n",
            "\u001b[0;31mKeyError\u001b[0m: 'lng'"
          ]
        }
      ]
    },
    {
      "cell_type": "markdown",
      "source": [],
      "metadata": {
        "id": "CBFFi_tsaCrw"
      }
    },
    {
      "cell_type": "markdown",
      "metadata": {
        "id": "KeWkaI_lYzIE"
      },
      "source": [
        "#### Exercise 03B:\n",
        "\n",
        "Ok. We should now have a list of objects with information about cities.\n",
        "\n",
        "Explore the data and answer the following questions:\n",
        "- How many cities are in this list?\n",
        "- What's the name of the first city on the list?\n",
        "- What are the latitude and longitude of the last city on the list?\n",
        "- What are the populations for the largest and smallest cities?\n",
        "- What's the name of the city with the largest population?\n"
      ]
    },
    {
      "cell_type": "code",
      "execution_count": 37,
      "metadata": {
        "tags": [
          "work_cell"
        ],
        "id": "eYPYEt5t7wbW"
      },
      "outputs": [],
      "source": [
        "# Work on 03B here\n",
        "\n",
        "# How many cities are in the list?\n",
        "\n",
        "num_cities = 0\n",
        "\n",
        "\n",
        "# What's the name of the first city on the list?\n",
        "\n",
        "first_city = \"\"\n",
        "\n",
        "\n",
        "# What are the latitude and longitude of the last city on the list?\n",
        "\n",
        "last_latitude = 0\n",
        "last_longitude = 0\n",
        "\n",
        "\n",
        "# What are the populations for the largest and smallest cities?\n",
        "\n",
        "largest_population = 0\n",
        "smallest_population = 0\n",
        "\n",
        "\n",
        "# What's the name of the city with the largest population?\n",
        "\n",
        "largest_city_name = \"\""
      ]
    },
    {
      "cell_type": "markdown",
      "metadata": {
        "id": "hOH7Qb4K7wbW"
      },
      "source": [
        "#### Test 03B"
      ]
    },
    {
      "cell_type": "code",
      "execution_count": null,
      "metadata": {
        "id": "XAK5HiL57wbW"
      },
      "outputs": [],
      "source": [
        "# Test 03B\n",
        "answers = [num_cities, first_city, last_latitude, last_longitude, largest_population, smallest_population, largest_city_name]\n",
        "\n",
        "Tests.test(\"03B\", answers)"
      ]
    },
    {
      "cell_type": "markdown",
      "metadata": {
        "id": "nJylXsSrZ7DH"
      },
      "source": [
        "#### Exercise 03C:\n",
        "\n",
        "We have the largest city's name and population, but we need its position.\n",
        "\n",
        "We can recycle some of the logic from above to get the whole object that contains information for the largest city."
      ]
    },
    {
      "cell_type": "code",
      "execution_count": null,
      "metadata": {
        "tags": [
          "work_cell"
        ],
        "id": "do5TK_Kt7wbW"
      },
      "outputs": [],
      "source": [
        "# Work on 03C here\n",
        "\n",
        "largest_city = {}\n"
      ]
    },
    {
      "cell_type": "code",
      "execution_count": null,
      "metadata": {
        "id": "2JqQISKg7wbX"
      },
      "outputs": [],
      "source": [
        "# Test 03C\n",
        "Tests.test(\"03C\", largest_city)"
      ]
    },
    {
      "cell_type": "markdown",
      "metadata": {
        "id": "_V6UEMMw7wbX"
      },
      "source": [
        "#### Exercise 03D:\n",
        "\n",
        "We should have all info about the largest city here.\n",
        "\n",
        "Now, we'll iterate through the list and use each city's latitude and longitude to calculate its distance from the largest city.\n",
        "\n",
        "Althought not $100\\%$ correct, it's ok to use the [2D Euclidean distances](https://en.wikipedia.org/wiki/Euclidean_distance#Two_dimensions) for this.\n",
        "\n",
        "Could be useful to define a function `distance(cityA, cityB)` that returns the distance between two cities."
      ]
    },
    {
      "cell_type": "code",
      "execution_count": null,
      "metadata": {
        "tags": [
          "work_cell"
        ],
        "id": "dykJOt0b7wbX"
      },
      "outputs": [],
      "source": [
        "# Work on 03D here\n",
        "\n",
        "# Implement the helper function for calculating distances between 2 cities\n",
        "\n",
        "def distance(cityA, cityB):\n",
        "  return 0\n"
      ]
    },
    {
      "cell_type": "code",
      "execution_count": null,
      "metadata": {
        "id": "lfmMZ29I7wbX"
      },
      "outputs": [],
      "source": [
        "# Test 03D\n",
        "Tests.test(\"03D\", distance)"
      ]
    },
    {
      "cell_type": "markdown",
      "metadata": {
        "id": "27RWtZVJeRp4"
      },
      "source": [
        "#### Exercise 03E:\n",
        "\n",
        "Ok. We implemented a function to calculate the distance between 2 cities, let's use it now.\n",
        "\n",
        "Iterate through the list of cities again, calculate the distance from each city to the largest city, but now save the name, population and distance of each city on a separate list, called `city_distances`.\n",
        "\n",
        "`city_distances` should look something like this:\n",
        "\n",
        "```py\n",
        "[\n",
        "  { \"name\": \"Abu Dhabi\", \"pop\": 603492, \"distance\": 12.34 },\n",
        "  { \"name\": \"Ajman City\", \"pop\": 490035, \"distance\": 98.76 },\n",
        "  ...\n",
        "  { \"name\": \"Norton\", \"pop\": 52054, \"distance\": 56.78 }\n",
        "]\n",
        "```\n"
      ]
    },
    {
      "cell_type": "code",
      "execution_count": null,
      "metadata": {
        "tags": [
          "work_cell"
        ],
        "id": "DzOS2G3l7wbX"
      },
      "outputs": [],
      "source": [
        "# Work on 03E here\n",
        "\n",
        "# Now calculate every city's distance from the largest city and\n",
        "# save that on a new list\n",
        "\n",
        "city_distances = []\n"
      ]
    },
    {
      "cell_type": "code",
      "execution_count": null,
      "metadata": {
        "id": "FhnXQLUq7wbX"
      },
      "outputs": [],
      "source": [
        "# Test 03E\n",
        "Tests.test(\"03E\", city_distances)"
      ]
    },
    {
      "cell_type": "markdown",
      "metadata": {
        "id": "xJG6V-DufauE"
      },
      "source": [
        "#### Exercise 03F:\n",
        "\n",
        "Now, sort the array from the previous step by distance and get the name and population of the 3 cities closest to the largest city.\n",
        "\n",
        "The answer should be an object where its keys are city names and values are populations.\n",
        "\n",
        "Something like:\n",
        "\n",
        "```python\n",
        "closest_3 = {\n",
        "  \"pittsburgh\": 23412,\n",
        "  \"liverpool\": 172821,\n",
        "  \"oakland\": 182726\n",
        "}\n",
        "```"
      ]
    },
    {
      "cell_type": "code",
      "execution_count": null,
      "metadata": {
        "tags": [
          "work_cell"
        ],
        "id": "--3F-ox37wbc"
      },
      "outputs": [],
      "source": [
        "# Work on 03F here\n",
        "\n",
        "# Sort the array and get the name of the 3 cities closest to the largest city\n",
        "\n",
        "cities_by_distance = []\n",
        "\n",
        "closest_3 = {}\n"
      ]
    },
    {
      "cell_type": "code",
      "execution_count": null,
      "metadata": {
        "id": "7pmLYrJW7wbc"
      },
      "outputs": [],
      "source": [
        "# Test 03F\n",
        "Tests.test(\"03F\", closest_3)"
      ]
    },
    {
      "cell_type": "markdown",
      "metadata": {
        "id": "nengUZA4WfPb"
      },
      "source": [
        "### Exercise 04:\n",
        "\n",
        "Visualizing data files.\n"
      ]
    },
    {
      "cell_type": "markdown",
      "metadata": {
        "id": "mvoFMxi1dQEc"
      },
      "source": [
        "#### Exercise 04A:\n",
        "\n",
        "Let's load a JSON file that has information about houses in the Los Angeles metropolitan region of California.\n",
        "\n",
        "The file at this url https://raw.githubusercontent.com/DM-GY-9103-2024S-R/9103-utils/main/datasets/json/LA_housing.json has a list of objects formatted like this:\n",
        "\n",
        "```python\n",
        "{\n",
        "  \"longitude\": -114.310,\n",
        "  \"latitude\": 34.190,\n",
        "  \"age\": 15,\n",
        "  \"rooms\": 12.234,\n",
        "  \"bedrooms\": 3.514,\n",
        "  \"value\": 669000\n",
        "}\n",
        "```\n",
        "\n",
        "The number of rooms and bedrooms are not integers because some addresses have multiple units/apartments with different floorplans that get averaged."
      ]
    },
    {
      "cell_type": "code",
      "execution_count": null,
      "metadata": {
        "tags": [
          "work_cell"
        ],
        "id": "Flou1h7E7wbd"
      },
      "outputs": [],
      "source": [
        "# Work on 04A here\n",
        "\n",
        "# Define the location of the json file here\n",
        "\n",
        "HOUSES_FILE = \"\"\n",
        "\n",
        "# Use the object_from_json_url() function imported from HW02_utils\n",
        "# to load contents from the file into a Python object called \"info_houses\"\n",
        "\n",
        "info_houses = []\n"
      ]
    },
    {
      "cell_type": "markdown",
      "metadata": {
        "id": "w_oZ0_CogIiM"
      },
      "source": [
        "#### Exercise 04B:\n",
        "\n",
        "Explore the data and answer the following questions:\n",
        "- How many instances are there in our dataset?\n",
        "- What's the value of the most expensive house?\n",
        "- What's the max number of bedrooms in a house?\n",
        "- What's the number of bedrooms in the house with the most rooms?\n",
        "- What's the number of rooms in the house with the most bedrooms?"
      ]
    },
    {
      "cell_type": "code",
      "execution_count": null,
      "metadata": {
        "tags": [
          "work_cell"
        ],
        "id": "PdNj4bcH7wbd"
      },
      "outputs": [],
      "source": [
        "# Work on 04B here\n",
        "\n",
        "# How many instances are there in our dataset?\n",
        "# This is the same as asking \"how many rows\" or, in this case, \"how many houses\"\n",
        "\n",
        "num_houses = 0\n",
        "\n",
        "\n",
        "# What's the value of the most expensive house?\n",
        "\n",
        "max_value = 0\n",
        "\n",
        "\n",
        "# What's the number of bedrooms in the house with the most bedrooms?\n",
        "\n",
        "most_bedrooms = 0\n",
        "\n",
        "\n",
        "# What's the number of bedrooms in the house with the most rooms?\n",
        "\n",
        "bedrooms_in_most_rooms = 0\n",
        "\n",
        "\n",
        "# What's the number of rooms in the house with the most bedrooms?\n",
        "\n",
        "rooms_in_most_bedrooms = 0\n"
      ]
    },
    {
      "cell_type": "code",
      "execution_count": null,
      "metadata": {
        "id": "MoDJnKEI7wbd"
      },
      "outputs": [],
      "source": [
        "# Test 04B\n",
        "answers = [num_houses, max_value, most_bedrooms, bedrooms_in_most_rooms, rooms_in_most_bedrooms]\n",
        "\n",
        "Tests.test(\"04B\", answers)"
      ]
    },
    {
      "cell_type": "markdown",
      "metadata": {
        "id": "sy2gQI7_hNTC"
      },
      "source": [
        "#### Exercise 04C:\n",
        "\n",
        "Which of the features (`longitude`, `latitude`, `age`, `rooms` or `bedrooms`) is a better indicator for value of a house?\n",
        "\n",
        "We're going to use XY scatter plots to visualize house value as a function of each of these features, and see if any of them show strong correlation.\n",
        "\n",
        "Documentation for the plotting library is here:\n",
        "https://matplotlib.org/stable/api/_as_gen/matplotlib.pyplot.scatter.html\n",
        "\n",
        "One thing to note is that the functions for plotting like to get lists of values and not lists of objects.\n",
        "\n",
        "Before we plot anything, let's define a function `list_from_key(objs, key)` that returns a list with all values of feature `key` for all of the objects in `objs`."
      ]
    },
    {
      "cell_type": "code",
      "execution_count": null,
      "metadata": {
        "tags": [
          "work_cell"
        ],
        "id": "l61AYfpz7wbd"
      },
      "outputs": [],
      "source": [
        "# Work on 04C here\n",
        "\n",
        "# helper function to get lists of values from specific key\n",
        "def list_from_key(obj, key):\n",
        "  return []\n"
      ]
    },
    {
      "cell_type": "code",
      "execution_count": null,
      "metadata": {
        "id": "3K00wsrt7wbd"
      },
      "outputs": [],
      "source": [
        "# Test 04C\n",
        "Tests.test(\"04C\", list_from_key)"
      ]
    },
    {
      "cell_type": "markdown",
      "metadata": {
        "id": "WnlG8HE87wbd"
      },
      "source": [
        "#### Exercise 04D:\n",
        "\n",
        "Now we can actually plot some values and start looking for correlations."
      ]
    },
    {
      "cell_type": "code",
      "execution_count": null,
      "metadata": {
        "tags": [
          "work_cell"
        ],
        "id": "Jxr-RVGw7wbd"
      },
      "outputs": [],
      "source": [
        "# Work on 04D here\n",
        "\n",
        "# get a list with all of the price values\n",
        "prices = []\n",
        "\n",
        "# get a list with all of the house ages (for example)\n",
        "house_ages = []\n",
        "\n",
        "\n",
        "# this is the command to plot a XY scatter plot from 2 lists\n",
        "# see documentation: https://matplotlib.org/stable/api/_as_gen/matplotlib.pyplot.scatter.html\n",
        "\n",
        "plt.scatter(house_ages, prices)\n",
        "plt.xlabel(\"age\")\n",
        "plt.ylabel(\"value\")\n",
        "plt.show()"
      ]
    },
    {
      "cell_type": "markdown",
      "metadata": {
        "id": "UTMOs6zJsWbN"
      },
      "source": [
        "#### Exercise 04E:\n",
        "\n",
        "What if we use two features at a time?\n",
        "\n",
        "Is there a pair of features (`longitude`, `latitude`, `age`, `rooms` or `bedrooms`) that correlates to house value?\n"
      ]
    },
    {
      "cell_type": "code",
      "execution_count": null,
      "metadata": {
        "tags": [
          "work_cell"
        ],
        "id": "09H_23vT7wbd"
      },
      "outputs": [],
      "source": [
        "# Work on 04E here\n",
        "\n",
        "# get a list with all of the price values\n",
        "prices = []\n",
        "\n",
        "# get a list with all of the values of one feature\n",
        "feature_0_values = []\n",
        "\n",
        "# get a list with all of the values of another feature\n",
        "feature_1_values = []\n",
        "\n",
        "# this is how we plot an XY scatter plot using 3 lists\n",
        "# see documentation: https://matplotlib.org/stable/api/_as_gen/matplotlib.pyplot.scatter.html\n",
        "\n",
        "plt.scatter(feature_0_values, feature_1_values, c=prices, alpha=0.3)\n",
        "plt.xlabel(\"feature_0\")\n",
        "plt.ylabel(\"feature_1\")\n",
        "plt.show()"
      ]
    }
  ],
  "metadata": {
    "colab": {
      "provenance": []
    },
    "kernelspec": {
      "display_name": "Python 3.9.17 ('hf-model')",
      "language": "python",
      "name": "python3"
    },
    "language_info": {
      "codemirror_mode": {
        "name": "ipython",
        "version": 3
      },
      "file_extension": ".py",
      "mimetype": "text/x-python",
      "name": "python",
      "nbconvert_exporter": "python",
      "pygments_lexer": "ipython3",
      "version": "3.10.13"
    },
    "vscode": {
      "interpreter": {
        "hash": "89e384cab7c47fb35ec95d2248b519cf922ee174880eed636c26cdfb6c4df768"
      }
    }
  },
  "nbformat": 4,
  "nbformat_minor": 0
}